{
 "cells": [
  {
   "cell_type": "code",
   "execution_count": 103,
   "id": "d06b4455",
   "metadata": {},
   "outputs": [],
   "source": [
    "# Packages for data analysis\n",
    "import pandas as pd\n",
    "import numpy as np\n",
    "import re\n",
    "\n",
    "# Packages for visualisations\n",
    "import seaborn as sns\n",
    "import matplotlib.pyplot as plt\n",
    "\n",
    "# Packages for preprocessing\n",
    "from sklearn.preprocessing import LabelEncoder\n",
    "from sklearn.feature_extraction.text import CountVectorizer\n",
    "from sklearn.model_selection import train_test_split\n",
    "\n",
    "# Packages for training models\n",
    "from sklearn.naive_bayes import MultinomialNB\n",
    "\n",
    "# Packages for evaluating model accuracy\n",
    "from sklearn.metrics import accuracy_score, confusion_matrix, classification_report\n"
   ]
  },
  {
   "cell_type": "code",
   "execution_count": 3,
   "id": "f39382a1",
   "metadata": {},
   "outputs": [],
   "source": [
    "# Import training dataset\n",
    "df_train = pd.read_csv('train_set.csv')\n",
    "\n",
    "# Import testing dataset\n",
    "df_test = pd.read_csv('test_set.csv')\n",
    "\n",
    "# Creat copy for EDA purposes\n",
    "df_train_eda=df_train.copy()"
   ]
  },
  {
   "cell_type": "code",
   "execution_count": 98,
   "id": "30b83783",
   "metadata": {},
   "outputs": [
    {
     "data": {
      "text/html": [
       "<div>\n",
       "<style scoped>\n",
       "    .dataframe tbody tr th:only-of-type {\n",
       "        vertical-align: middle;\n",
       "    }\n",
       "\n",
       "    .dataframe tbody tr th {\n",
       "        vertical-align: top;\n",
       "    }\n",
       "\n",
       "    .dataframe thead th {\n",
       "        text-align: right;\n",
       "    }\n",
       "</style>\n",
       "<table border=\"1\" class=\"dataframe\">\n",
       "  <thead>\n",
       "    <tr style=\"text-align: right;\">\n",
       "      <th></th>\n",
       "      <th>lang_id</th>\n",
       "      <th>text</th>\n",
       "    </tr>\n",
       "  </thead>\n",
       "  <tbody>\n",
       "    <tr>\n",
       "      <th>0</th>\n",
       "      <td>xho</td>\n",
       "      <td>umgaqo-siseko wenza amalungiselelo kumaziko ax...</td>\n",
       "    </tr>\n",
       "    <tr>\n",
       "      <th>1</th>\n",
       "      <td>xho</td>\n",
       "      <td>i-dha iya kuba nobulumko bokubeka umsebenzi na...</td>\n",
       "    </tr>\n",
       "    <tr>\n",
       "      <th>2</th>\n",
       "      <td>eng</td>\n",
       "      <td>the province of kwazulu-natal department of tr...</td>\n",
       "    </tr>\n",
       "    <tr>\n",
       "      <th>3</th>\n",
       "      <td>nso</td>\n",
       "      <td>o netefatša gore o ba file dilo ka moka tše le...</td>\n",
       "    </tr>\n",
       "    <tr>\n",
       "      <th>4</th>\n",
       "      <td>ven</td>\n",
       "      <td>khomishini ya ndinganyiso ya mbeu yo ewa maana...</td>\n",
       "    </tr>\n",
       "  </tbody>\n",
       "</table>\n",
       "</div>"
      ],
      "text/plain": [
       "  lang_id                                               text\n",
       "0     xho  umgaqo-siseko wenza amalungiselelo kumaziko ax...\n",
       "1     xho  i-dha iya kuba nobulumko bokubeka umsebenzi na...\n",
       "2     eng  the province of kwazulu-natal department of tr...\n",
       "3     nso  o netefatša gore o ba file dilo ka moka tše le...\n",
       "4     ven  khomishini ya ndinganyiso ya mbeu yo ewa maana..."
      ]
     },
     "execution_count": 98,
     "metadata": {},
     "output_type": "execute_result"
    }
   ],
   "source": [
    "#df_train.head(20)\n",
    "df_train.head()"
   ]
  },
  {
   "cell_type": "code",
   "execution_count": 5,
   "id": "60d85356",
   "metadata": {},
   "outputs": [
    {
     "data": {
      "text/plain": [
       "xho    3000\n",
       "eng    3000\n",
       "nso    3000\n",
       "ven    3000\n",
       "tsn    3000\n",
       "nbl    3000\n",
       "zul    3000\n",
       "ssw    3000\n",
       "tso    3000\n",
       "sot    3000\n",
       "afr    3000\n",
       "Name: lang_id, dtype: int64"
      ]
     },
     "execution_count": 5,
     "metadata": {},
     "output_type": "execute_result"
    }
   ],
   "source": [
    "df_train[\"lang_id\"].value_counts()"
   ]
  },
  {
   "cell_type": "code",
   "execution_count": 6,
   "id": "1809c659",
   "metadata": {},
   "outputs": [
    {
     "data": {
      "text/plain": [
       "lang_id    9.248485\n",
       "text       9.248485\n",
       "dtype: float64"
      ]
     },
     "execution_count": 6,
     "metadata": {},
     "output_type": "execute_result"
    }
   ],
   "source": [
    "df_train_eda[df_train_eda.duplicated(subset='text') == True].count()/len(df_train)*100"
   ]
  },
  {
   "cell_type": "markdown",
   "id": "94337634",
   "metadata": {},
   "source": [
    "## Separating Independent and Dependent features"
   ]
  },
  {
   "cell_type": "markdown",
   "id": "7066f86f",
   "metadata": {},
   "source": [
    "Now we can separate the dependent and independent variables, here text data is the independent variable and the language id is the dependent variable."
   ]
  },
  {
   "cell_type": "code",
   "execution_count": 7,
   "id": "d04d1f4d",
   "metadata": {},
   "outputs": [],
   "source": [
    "# independent variable\n",
    "X = df_train[\"text\"]\n",
    "\n",
    "# dependent variable\n",
    "y = df_train[\"lang_id\"]"
   ]
  },
  {
   "cell_type": "markdown",
   "id": "a8f90694",
   "metadata": {},
   "source": [
    "## Label Encoding"
   ]
  },
  {
   "cell_type": "markdown",
   "id": "6ff34876",
   "metadata": {},
   "source": [
    "Our output variable, the name of languages is a categorical variable. For training the model we should have to convert it into a numerical form, so we are performing label encoding on that output variable. For this process, we are using LabelEncoder from sklearn."
   ]
  },
  {
   "cell_type": "code",
   "execution_count": 8,
   "id": "6487e1b8",
   "metadata": {},
   "outputs": [],
   "source": [
    "\n",
    "le = LabelEncoder()\n",
    "y = le.fit_transform(y)"
   ]
  },
  {
   "cell_type": "markdown",
   "id": "fcfcd4d7",
   "metadata": {},
   "source": [
    "## Text Preprocessing"
   ]
  },
  {
   "cell_type": "markdown",
   "id": "b963af64",
   "metadata": {},
   "source": [
    "This dataset may contains many unwanted symbols, numbers which will affect the quality of our model. So we should perform text preprocessing techniques."
   ]
  },
  {
   "cell_type": "code",
   "execution_count": 9,
   "id": "ca864c8a",
   "metadata": {},
   "outputs": [
    {
     "name": "stderr",
     "output_type": "stream",
     "text": [
      "C:\\Users\\MAVUSO\\AppData\\Local\\Temp\\ipykernel_1372\\744870018.py:7: FutureWarning: Possible nested set at position 1\n",
      "  text = re.sub(r'[[]]', ' ', text)\n"
     ]
    }
   ],
   "source": [
    "# creating a list for appending the preprocessed text\n",
    "data_list = []\n",
    "# iterating through all the text\n",
    "for text in X:\n",
    "       # removing the symbols and numbers\n",
    "        text = re.sub(r'[!@#$(),n\"%^*?:;~`0-9]', ' ', text)\n",
    "        text = re.sub(r'[[]]', ' ', text)\n",
    "        # converting the text to lower case\n",
    "        text = text.lower()\n",
    "        # appending to data_list\n",
    "        data_list.append(text)"
   ]
  },
  {
   "cell_type": "markdown",
   "id": "cd7cdce9",
   "metadata": {},
   "source": [
    "## Bag of Words"
   ]
  },
  {
   "cell_type": "markdown",
   "id": "6616b8ff",
   "metadata": {},
   "source": [
    "As we all know that, not only the output feature but also the input feature should be of the numerical form. So we are converting text into numerical form by creating a Bag of Words model using CountVectorizer."
   ]
  },
  {
   "cell_type": "code",
   "execution_count": 36,
   "id": "f00a992b",
   "metadata": {},
   "outputs": [
    {
     "data": {
      "text/plain": [
       "(33000, 105196)"
      ]
     },
     "execution_count": 36,
     "metadata": {},
     "output_type": "execute_result"
    }
   ],
   "source": [
    "cv = CountVectorizer()\n",
    "X = cv.fit_transform(data_list)\n",
    "X.shape"
   ]
  },
  {
   "cell_type": "markdown",
   "id": "bf2d5c3a",
   "metadata": {},
   "source": [
    "# Train Test Splitting"
   ]
  },
  {
   "cell_type": "markdown",
   "id": "d12155bb",
   "metadata": {},
   "source": [
    "We preprocessed our input and output variable. The next step is to create the training set, for training the model and test set, for evaluating the test set. For this process, we are using a train test split."
   ]
  },
  {
   "cell_type": "code",
   "execution_count": 11,
   "id": "e2bcaf24",
   "metadata": {},
   "outputs": [],
   "source": [
    "x_train, x_test, y_train, y_test = train_test_split(X, y, test_size = 0.20)"
   ]
  },
  {
   "cell_type": "markdown",
   "id": "88dd0367",
   "metadata": {},
   "source": [
    "# Model Training and Prediction"
   ]
  },
  {
   "cell_type": "markdown",
   "id": "370617c4",
   "metadata": {},
   "source": [
    "And we almost there, the model creation part. We are using the naive_bayes algorithm for our model creation. Later we are training the model using the training set."
   ]
  },
  {
   "cell_type": "code",
   "execution_count": 12,
   "id": "5d37617b",
   "metadata": {},
   "outputs": [
    {
     "data": {
      "text/plain": [
       "MultinomialNB()"
      ]
     },
     "execution_count": 12,
     "metadata": {},
     "output_type": "execute_result"
    }
   ],
   "source": [
    "model = MultinomialNB()\n",
    "model.fit(x_train, y_train)"
   ]
  },
  {
   "cell_type": "markdown",
   "id": "20f76ae2",
   "metadata": {},
   "source": [
    "So we’ve trained our model using the training set. Now let’s predict the output for the test set."
   ]
  },
  {
   "cell_type": "code",
   "execution_count": 13,
   "id": "87441576",
   "metadata": {},
   "outputs": [],
   "source": [
    "y_pred = model.predict(x_test)"
   ]
  },
  {
   "cell_type": "markdown",
   "id": "f56b57dc",
   "metadata": {},
   "source": [
    "# Model Evaluation"
   ]
  },
  {
   "cell_type": "markdown",
   "id": "3157b1e9",
   "metadata": {},
   "source": [
    "Now we can evaluate our model"
   ]
  },
  {
   "cell_type": "code",
   "execution_count": 99,
   "id": "b6cd5384",
   "metadata": {},
   "outputs": [
    {
     "name": "stdout",
     "output_type": "stream",
     "text": [
      "Accuracy is : 1.0\n"
     ]
    }
   ],
   "source": [
    "ac = accuracy_score(y_test, y_pred)\n",
    "cm = confusion_matrix(y_test, y_pred)\n",
    "cr = classification_report(y_test, y_pred)\n",
    "\n",
    "print(\"Accuracy is :\",ac)"
   ]
  },
  {
   "cell_type": "markdown",
   "id": "39d3d667",
   "metadata": {},
   "source": [
    "The accuracy of the model is 1.0 which is very good and our model is performing well. Now let’s plot the confusion matrix using the seaborn heatmap."
   ]
  },
  {
   "cell_type": "code",
   "execution_count": 15,
   "id": "640e73cc",
   "metadata": {},
   "outputs": [
    {
     "data": {
      "image/png": "[encoded data removed]",
      "text/plain": [
       "<Figure size 1080x720 with 2 Axes>"
      ]
     },
     "metadata": {
      "needs_background": "light"
     },
     "output_type": "display_data"
    }
   ],
   "source": [
    "plt.figure(figsize=(15,10))\n",
    "sns.heatmap(cm, annot = True)\n",
    "plt.show()"
   ]
  },
  {
   "cell_type": "markdown",
   "id": "1f1a66e3",
   "metadata": {},
   "source": [
    "When looking into each language, almost all the predictions are right. And yes !! you are almost there !!"
   ]
  },
  {
   "cell_type": "markdown",
   "id": "a8d04232",
   "metadata": {},
   "source": [
    "def predict(text):\n",
    "     x = cv.transform([text]).toarray() # converting text to bag of words model (Vector)\n",
    "     lang = model.predict(x) # predicting the language\n",
    "     lang = le.inverse_transform(lang) # finding the language corresponding the the predicted value\n",
    "     print(\"The langauge is in\",lang[0]) # printing the language"
   ]
  },
  {
   "cell_type": "code",
   "execution_count": 105,
   "id": "8f8bc42c",
   "metadata": {},
   "outputs": [],
   "source": [
    "# Make predictions\n",
    "df_test.index += 1\n",
    "x = cv.transform(df_test['text']).toarray()\n",
    "predictions = model.predict(x)\n",
    "lang = le.inverse_transform(predictions)\n",
    "Id = np.array(df_test.index)\n",
    "names = ['lang_id']\n",
    "\n",
    "# Create output dataframe\n",
    "out = pd.DataFrame(lang, columns=names, index = Id)\n",
    "out.index.name='index'"
   ]
  },
  {
   "cell_type": "code",
   "execution_count": null,
   "id": "8fa6d7e6",
   "metadata": {},
   "outputs": [],
   "source": [
    "out.to_csv('language_test.csv', index =True)"
   ]
  }
 ],
 "metadata": {
  "kernelspec": {
   "display_name": "Python 3 (ipykernel)",
   "language": "python",
   "name": "python3"
  },
  "language_info": {
   "codemirror_mode": {
    "name": "ipython",
    "version": 3
   },
   "file_extension": ".py",
   "mimetype": "text/x-python",
   "name": "python",
   "nbconvert_exporter": "python",
   "pygments_lexer": "ipython3",
   "version": "3.9.12"
  }
 },
 "nbformat": 4,
 "nbformat_minor": 5
}
